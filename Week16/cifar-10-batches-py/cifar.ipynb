{
 "cells": [
  {
   "cell_type": "code",
   "execution_count": 1,
   "metadata": {},
   "outputs": [
    {
     "name": "stderr",
     "output_type": "stream",
     "text": [
      "Using TensorFlow backend.\n"
     ]
    }
   ],
   "source": [
    "import numpy\n",
    "from keras.datasets import cifar10\n",
    "from keras.models import Sequential\n",
    "from keras.layers import Dense\n",
    "from keras.layers import Dropout\n",
    "from keras.layers import Flatten\n",
    "from keras.constraints import maxnorm\n",
    "from keras.optimizers import SGD\n",
    "from keras.layers.convolutional import Conv2D\n",
    "from keras.layers.convolutional import MaxPooling2D\n",
    "from keras.utils import np_utils\n",
    "from keras import backend as K\n",
    "K.set_image_dim_ordering('th')\n",
    "numpy.random.seed(5)"
   ]
  },
  {
   "cell_type": "code",
   "execution_count": 2,
   "metadata": {},
   "outputs": [],
   "source": [
    "# load data\n",
    "(X_train, y_train), (X_test, y_test) = cifar10.load_data()"
   ]
  },
  {
   "cell_type": "code",
   "execution_count": 3,
   "metadata": {},
   "outputs": [],
   "source": [
    "# normalize inputs from 0-255 to 0.0-1.0\n",
    "X_train = X_train.astype('float32')\n",
    "X_test = X_test.astype('float32')\n",
    "X_train = X_train / 255.0\n",
    "X_test = X_test / 255.0"
   ]
  },
  {
   "cell_type": "code",
   "execution_count": 4,
   "metadata": {},
   "outputs": [],
   "source": [
    "# one hot encode outputs\n",
    "y_train = np_utils.to_categorical(y_train)\n",
    "y_test = np_utils.to_categorical(y_test)\n",
    "num_classes = y_test.shape[1]"
   ]
  },
  {
   "cell_type": "code",
   "execution_count": 5,
   "metadata": {},
   "outputs": [
    {
     "name": "stdout",
     "output_type": "stream",
     "text": [
      "WARNING:tensorflow:From /home/shadowk/anaconda3/lib/python3.7/site-packages/tensorflow/python/framework/op_def_library.py:263: colocate_with (from tensorflow.python.framework.ops) is deprecated and will be removed in a future version.\n",
      "Instructions for updating:\n",
      "Colocations handled automatically by placer.\n",
      "WARNING:tensorflow:From /home/shadowk/anaconda3/lib/python3.7/site-packages/keras/backend/tensorflow_backend.py:3445: calling dropout (from tensorflow.python.ops.nn_ops) with keep_prob is deprecated and will be removed in a future version.\n",
      "Instructions for updating:\n",
      "Please use `rate` instead of `keep_prob`. Rate should be set to `rate = 1 - keep_prob`.\n"
     ]
    }
   ],
   "source": [
    "# Create the model\n",
    "model = Sequential()\n",
    "model.add(Conv2D(32, (3, 3), input_shape=(3, 32, 32), activation='relu', padding='same'))\n",
    "model.add(Dropout(0.2))\n",
    "model.add(Conv2D(32, (3, 3), activation='relu', padding='same'))\n",
    "model.add(MaxPooling2D(pool_size=(2, 2)))\n",
    "model.add(Conv2D(64, (3, 3), activation='relu', padding='same'))\n",
    "model.add(Dropout(0.2))\n",
    "model.add(Conv2D(64, (3, 3), activation='relu', padding='same'))\n",
    "model.add(MaxPooling2D(pool_size=(2, 2)))\n",
    "model.add(Conv2D(128, (3, 3), activation='relu', padding='same'))\n",
    "model.add(Dropout(0.2))\n",
    "model.add(Conv2D(128, (3, 3), activation='relu', padding='same'))\n",
    "model.add(MaxPooling2D(pool_size=(2, 2)))\n",
    "model.add(Flatten())\n",
    "model.add(Dropout(0.2))\n",
    "model.add(Dense(1024, activation='relu', kernel_constraint=maxnorm(3)))\n",
    "model.add(Dropout(0.2))\n",
    "model.add(Dense(512, activation='relu', kernel_constraint=maxnorm(3)))\n",
    "model.add(Dropout(0.2))\n",
    "model.add(Dense(num_classes, activation='softmax'))"
   ]
  },
  {
   "cell_type": "code",
   "execution_count": 6,
   "metadata": {},
   "outputs": [
    {
     "name": "stdout",
     "output_type": "stream",
     "text": [
      "_________________________________________________________________\n",
      "Layer (type)                 Output Shape              Param #   \n",
      "=================================================================\n",
      "conv2d_1 (Conv2D)            (None, 32, 32, 32)        896       \n",
      "_________________________________________________________________\n",
      "dropout_1 (Dropout)          (None, 32, 32, 32)        0         \n",
      "_________________________________________________________________\n",
      "conv2d_2 (Conv2D)            (None, 32, 32, 32)        9248      \n",
      "_________________________________________________________________\n",
      "max_pooling2d_1 (MaxPooling2 (None, 32, 16, 16)        0         \n",
      "_________________________________________________________________\n",
      "conv2d_3 (Conv2D)            (None, 64, 16, 16)        18496     \n",
      "_________________________________________________________________\n",
      "dropout_2 (Dropout)          (None, 64, 16, 16)        0         \n",
      "_________________________________________________________________\n",
      "conv2d_4 (Conv2D)            (None, 64, 16, 16)        36928     \n",
      "_________________________________________________________________\n",
      "max_pooling2d_2 (MaxPooling2 (None, 64, 8, 8)          0         \n",
      "_________________________________________________________________\n",
      "conv2d_5 (Conv2D)            (None, 128, 8, 8)         73856     \n",
      "_________________________________________________________________\n",
      "dropout_3 (Dropout)          (None, 128, 8, 8)         0         \n",
      "_________________________________________________________________\n",
      "conv2d_6 (Conv2D)            (None, 128, 8, 8)         147584    \n",
      "_________________________________________________________________\n",
      "max_pooling2d_3 (MaxPooling2 (None, 128, 4, 4)         0         \n",
      "_________________________________________________________________\n",
      "flatten_1 (Flatten)          (None, 2048)              0         \n",
      "_________________________________________________________________\n",
      "dropout_4 (Dropout)          (None, 2048)              0         \n",
      "_________________________________________________________________\n",
      "dense_1 (Dense)              (None, 1024)              2098176   \n",
      "_________________________________________________________________\n",
      "dropout_5 (Dropout)          (None, 1024)              0         \n",
      "_________________________________________________________________\n",
      "dense_2 (Dense)              (None, 512)               524800    \n",
      "_________________________________________________________________\n",
      "dropout_6 (Dropout)          (None, 512)               0         \n",
      "_________________________________________________________________\n",
      "dense_3 (Dense)              (None, 10)                5130      \n",
      "=================================================================\n",
      "Total params: 2,915,114\n",
      "Trainable params: 2,915,114\n",
      "Non-trainable params: 0\n",
      "_________________________________________________________________\n",
      "None\n"
     ]
    }
   ],
   "source": [
    "# Compile model\n",
    "epochs = 25\n",
    "lrate = 0.01\n",
    "decay = lrate/epochs\n",
    "sgd = SGD(lr=lrate, momentum=0.9, decay=decay, nesterov=False)\n",
    "model.compile(loss='categorical_crossentropy', optimizer=sgd, metrics=['accuracy'])\n",
    "print(model.summary())"
   ]
  },
  {
   "cell_type": "code",
   "execution_count": 7,
   "metadata": {},
   "outputs": [
    {
     "name": "stdout",
     "output_type": "stream",
     "text": [
      "WARNING:tensorflow:From /home/shadowk/anaconda3/lib/python3.7/site-packages/tensorflow/python/ops/math_ops.py:3066: to_int32 (from tensorflow.python.ops.math_ops) is deprecated and will be removed in a future version.\n",
      "Instructions for updating:\n",
      "Use tf.cast instead.\n",
      "Train on 50000 samples, validate on 10000 samples\n",
      "Epoch 1/25\n",
      "50000/50000 [==============================] - 362s 7ms/step - loss: 1.8647 - acc: 0.3097 - val_loss: 1.6456 - val_acc: 0.4023\n",
      "Epoch 2/25\n",
      "50000/50000 [==============================] - 370s 7ms/step - loss: 1.4247 - acc: 0.4792 - val_loss: 1.2599 - val_acc: 0.5352\n",
      "Epoch 3/25\n",
      "50000/50000 [==============================] - 370s 7ms/step - loss: 1.2361 - acc: 0.5528 - val_loss: 1.2333 - val_acc: 0.5584\n",
      "Epoch 4/25\n",
      "50000/50000 [==============================] - 372s 7ms/step - loss: 1.0891 - acc: 0.6108 - val_loss: 1.0033 - val_acc: 0.6419\n",
      "Epoch 5/25\n",
      "50000/50000 [==============================] - 376s 8ms/step - loss: 0.9753 - acc: 0.6535 - val_loss: 0.9062 - val_acc: 0.6784\n",
      "Epoch 6/25\n",
      "50000/50000 [==============================] - 379s 8ms/step - loss: 0.8794 - acc: 0.6860 - val_loss: 0.8545 - val_acc: 0.6983\n",
      "Epoch 7/25\n",
      "50000/50000 [==============================] - 381s 8ms/step - loss: 0.8096 - acc: 0.7150 - val_loss: 0.8169 - val_acc: 0.7200\n",
      "Epoch 8/25\n",
      "50000/50000 [==============================] - 385s 8ms/step - loss: 0.7478 - acc: 0.7369 - val_loss: 0.7584 - val_acc: 0.7329\n",
      "Epoch 9/25\n",
      "50000/50000 [==============================] - 386s 8ms/step - loss: 0.7041 - acc: 0.7515 - val_loss: 0.7326 - val_acc: 0.7406\n",
      "Epoch 10/25\n",
      "50000/50000 [==============================] - 392s 8ms/step - loss: 0.6591 - acc: 0.7691 - val_loss: 0.6967 - val_acc: 0.7559\n",
      "Epoch 11/25\n",
      "50000/50000 [==============================] - 379s 8ms/step - loss: 0.6236 - acc: 0.7784 - val_loss: 0.6801 - val_acc: 0.7617\n",
      "Epoch 12/25\n",
      "50000/50000 [==============================] - 382s 8ms/step - loss: 0.5899 - acc: 0.7920 - val_loss: 0.6699 - val_acc: 0.7660\n",
      "Epoch 13/25\n",
      "50000/50000 [==============================] - 382s 8ms/step - loss: 0.5640 - acc: 0.8012 - val_loss: 0.6580 - val_acc: 0.7729\n",
      "Epoch 14/25\n",
      "50000/50000 [==============================] - 383s 8ms/step - loss: 0.5364 - acc: 0.8093 - val_loss: 0.6617 - val_acc: 0.7769\n",
      "Epoch 15/25\n",
      "50000/50000 [==============================] - 384s 8ms/step - loss: 0.5151 - acc: 0.8176 - val_loss: 0.6610 - val_acc: 0.7730\n",
      "Epoch 16/25\n",
      "50000/50000 [==============================] - 388s 8ms/step - loss: 0.4908 - acc: 0.8276 - val_loss: 0.6328 - val_acc: 0.7836\n",
      "Epoch 17/25\n",
      "50000/50000 [==============================] - 388s 8ms/step - loss: 0.4736 - acc: 0.8322 - val_loss: 0.6391 - val_acc: 0.7855\n",
      "Epoch 18/25\n",
      "50000/50000 [==============================] - 382s 8ms/step - loss: 0.4590 - acc: 0.8370 - val_loss: 0.6246 - val_acc: 0.7852\n",
      "Epoch 19/25\n",
      "50000/50000 [==============================] - 375s 7ms/step - loss: 0.4363 - acc: 0.8439 - val_loss: 0.6295 - val_acc: 0.7883\n",
      "Epoch 20/25\n",
      "50000/50000 [==============================] - 375s 7ms/step - loss: 0.4226 - acc: 0.8506 - val_loss: 0.6201 - val_acc: 0.7933\n",
      "Epoch 21/25\n",
      "50000/50000 [==============================] - 377s 8ms/step - loss: 0.4015 - acc: 0.8571 - val_loss: 0.6102 - val_acc: 0.7955\n",
      "Epoch 22/25\n",
      "50000/50000 [==============================] - 378s 8ms/step - loss: 0.3907 - acc: 0.8609 - val_loss: 0.6145 - val_acc: 0.7958\n",
      "Epoch 23/25\n",
      "50000/50000 [==============================] - 378s 8ms/step - loss: 0.3748 - acc: 0.8659 - val_loss: 0.6207 - val_acc: 0.7942\n",
      "Epoch 24/25\n",
      "50000/50000 [==============================] - 378s 8ms/step - loss: 0.3670 - acc: 0.8684 - val_loss: 0.6147 - val_acc: 0.7983\n",
      "Epoch 25/25\n",
      "50000/50000 [==============================] - 380s 8ms/step - loss: 0.3532 - acc: 0.8745 - val_loss: 0.6115 - val_acc: 0.8009\n"
     ]
    },
    {
     "data": {
      "text/plain": [
       "<keras.callbacks.History at 0x7f47ad847c18>"
      ]
     },
     "execution_count": 7,
     "metadata": {},
     "output_type": "execute_result"
    }
   ],
   "source": [
    "# Fit the model\n",
    "model.fit(X_train, y_train, validation_data=(X_test, y_test), epochs=epochs, batch_size=32)"
   ]
  },
  {
   "cell_type": "code",
   "execution_count": 8,
   "metadata": {},
   "outputs": [
    {
     "name": "stdout",
     "output_type": "stream",
     "text": [
      "Accuracy: 80.09%\n"
     ]
    }
   ],
   "source": [
    "# Final evaluation of the model\n",
    "scores = model.evaluate(X_test, y_test, verbose=0)\n",
    "print(\"Accuracy: %.2f%%\" % (scores[1]*100))"
   ]
  },
  {
   "cell_type": "code",
   "execution_count": null,
   "metadata": {},
   "outputs": [],
   "source": []
  }
 ],
 "metadata": {
  "kernelspec": {
   "display_name": "Python 3",
   "language": "python",
   "name": "python3"
  },
  "language_info": {
   "codemirror_mode": {
    "name": "ipython",
    "version": 3
   },
   "file_extension": ".py",
   "mimetype": "text/x-python",
   "name": "python",
   "nbconvert_exporter": "python",
   "pygments_lexer": "ipython3",
   "version": "3.7.1"
  }
 },
 "nbformat": 4,
 "nbformat_minor": 2
}
