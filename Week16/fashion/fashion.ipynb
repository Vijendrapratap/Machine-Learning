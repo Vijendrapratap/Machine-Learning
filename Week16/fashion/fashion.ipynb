{
 "cells": [
  {
   "cell_type": "code",
   "execution_count": 20,
   "metadata": {},
   "outputs": [],
   "source": [
    "import numpy as np\n",
    "import pandas as pd\n",
    "from keras.models import Sequential\n",
    "from keras.layers import Dense\n",
    "from keras.layers import Dropout\n",
    "from keras.layers import Flatten\n",
    "from keras.layers.convolutional import Convolution2D\n",
    "from keras.layers.convolutional import MaxPooling2D\n",
    "from sklearn.preprocessing import LabelEncoder,OneHotEncoder\n",
    "from keras import backend as K\n",
    "import matplotlib.pyplot as plt\n",
    "from sklearn.model_selection import train_test_split"
   ]
  },
  {
   "cell_type": "code",
   "execution_count": 21,
   "metadata": {},
   "outputs": [],
   "source": [
    "# Read training and test data files\n",
    "train = pd.read_csv(\"fashion-mnist_train.csv\").values\n",
    "test  = pd.read_csv(\"fashion-mnist_test.csv\").values"
   ]
  },
  {
   "cell_type": "code",
   "execution_count": 23,
   "metadata": {},
   "outputs": [],
   "source": [
    "# Reshape and normalize training data\n",
    "trainX = train[:, 1:].reshape(train.shape[0],1,28, 28).astype( 'float32' )\n",
    "X_train = trainX / 255.0\n",
    "\n",
    "y_train = train[:,0]\n",
    "\n",
    "\n",
    "# Reshape and normalize test data\n",
    "testX = test[:,1:].reshape(test.shape[0],1, 28, 28).astype( 'float32' )\n",
    "X_test = testX / 255.0\n",
    "\n",
    "y_test = test[:,0]"
   ]
  },
  {
   "cell_type": "code",
   "execution_count": 25,
   "metadata": {},
   "outputs": [],
   "source": [
    "# split the training data into train and validate arrays (will be used later)\n",
    "\n",
    "x_train, x_validate, y_train, y_validate = train_test_split(\n",
    "    X_train, y_train, test_size=0.2, random_state=12345,\n",
    ")"
   ]
  },
  {
   "cell_type": "code",
   "execution_count": 26,
   "metadata": {},
   "outputs": [
    {
     "data": {
      "image/png": "[encoded data removed]",
      "text/plain": [
       "<Figure size 432x288 with 1 Axes>"
      ]
     },
     "metadata": {
      "needs_background": "light"
     },
     "output_type": "display_data"
    }
   ],
   "source": [
    "# lets see what the images look like\n",
    "\n",
    "image = x_train[50, :].reshape((28, 28))\n",
    "\n",
    "plt.imshow(image)\n",
    "plt.show()"
   ]
  },
  {
   "cell_type": "code",
   "execution_count": 4,
   "metadata": {},
   "outputs": [],
   "source": [
    "from sklearn import preprocessing\n",
    "lb = preprocessing.LabelBinarizer()\n",
    "y_train = lb.fit_transform(y_train)\n",
    "y_test = lb.fit_transform(y_test)"
   ]
  },
  {
   "cell_type": "code",
   "execution_count": 5,
   "metadata": {},
   "outputs": [
    {
     "name": "stderr",
     "output_type": "stream",
     "text": [
      "/home/shadowk/anaconda3/lib/python3.7/site-packages/ipykernel_launcher.py:3: UserWarning: Update your `Conv2D` call to the Keras 2 API: `Conv2D(30, (5, 5), input_shape=(1, 28, 28..., activation=\"relu\", padding=\"valid\")`\n",
      "  This is separate from the ipykernel package so we can avoid doing imports until\n"
     ]
    },
    {
     "name": "stdout",
     "output_type": "stream",
     "text": [
      "WARNING:tensorflow:From /home/shadowk/anaconda3/lib/python3.7/site-packages/tensorflow/python/framework/op_def_library.py:263: colocate_with (from tensorflow.python.framework.ops) is deprecated and will be removed in a future version.\n",
      "Instructions for updating:\n",
      "Colocations handled automatically by placer.\n",
      "WARNING:tensorflow:From /home/shadowk/anaconda3/lib/python3.7/site-packages/keras/backend/tensorflow_backend.py:3445: calling dropout (from tensorflow.python.ops.nn_ops) with keep_prob is deprecated and will be removed in a future version.\n",
      "Instructions for updating:\n",
      "Please use `rate` instead of `keep_prob`. Rate should be set to `rate = 1 - keep_prob`.\n"
     ]
    },
    {
     "name": "stderr",
     "output_type": "stream",
     "text": [
      "/home/shadowk/anaconda3/lib/python3.7/site-packages/ipykernel_launcher.py:5: UserWarning: Update your `Conv2D` call to the Keras 2 API: `Conv2D(15, (3, 3), activation=\"relu\")`\n",
      "  \"\"\"\n"
     ]
    }
   ],
   "source": [
    "model = Sequential()\n",
    "K.set_image_dim_ordering('th')\n",
    "model.add(Convolution2D(30, 5, 5, border_mode= 'valid' , input_shape=(1, 28, 28),activation= 'relu' ))\n",
    "model.add(MaxPooling2D(pool_size=(2, 2)))\n",
    "model.add(Convolution2D(15, 3, 3, activation= 'relu' ))\n",
    "model.add(MaxPooling2D(pool_size=(2, 2)))\n",
    "model.add(Dropout(0.2))\n",
    "model.add(Flatten())\n",
    "model.add(Dense(128, activation= 'relu' ))\n",
    "model.add(Dense(50, activation= 'relu' ))\n",
    "model.add(Dense(10, activation= 'softmax' ))\n",
    "  # Compile model\n",
    "model.compile(loss= 'categorical_crossentropy' , optimizer= 'adam' , metrics=[ 'accuracy' ])"
   ]
  },
  {
   "cell_type": "code",
   "execution_count": 6,
   "metadata": {},
   "outputs": [
    {
     "name": "stdout",
     "output_type": "stream",
     "text": [
      "WARNING:tensorflow:From /home/shadowk/anaconda3/lib/python3.7/site-packages/tensorflow/python/ops/math_ops.py:3066: to_int32 (from tensorflow.python.ops.math_ops) is deprecated and will be removed in a future version.\n",
      "Instructions for updating:\n",
      "Use tf.cast instead.\n",
      "Epoch 1/20\n",
      "60000/60000 [==============================] - 36s 604us/step - loss: 0.7193 - acc: 0.7339\n",
      "Epoch 2/20\n",
      "60000/60000 [==============================] - 35s 587us/step - loss: 0.4484 - acc: 0.8362\n",
      "Epoch 3/20\n",
      "60000/60000 [==============================] - 35s 587us/step - loss: 0.3848 - acc: 0.8601\n",
      "Epoch 4/20\n",
      "60000/60000 [==============================] - 35s 590us/step - loss: 0.3489 - acc: 0.8735\n",
      "Epoch 5/20\n",
      "60000/60000 [==============================] - 36s 600us/step - loss: 0.3250 - acc: 0.8803\n",
      "Epoch 6/20\n",
      "60000/60000 [==============================] - 36s 598us/step - loss: 0.3103 - acc: 0.8864\n",
      "Epoch 7/20\n",
      "60000/60000 [==============================] - 36s 599us/step - loss: 0.2956 - acc: 0.8914\n",
      "Epoch 8/20\n",
      "60000/60000 [==============================] - 36s 604us/step - loss: 0.2854 - acc: 0.8946\n",
      "Epoch 9/20\n",
      "60000/60000 [==============================] - 36s 607us/step - loss: 0.2784 - acc: 0.8967\n",
      "Epoch 10/20\n",
      "60000/60000 [==============================] - 37s 612us/step - loss: 0.2682 - acc: 0.8999\n",
      "Epoch 11/20\n",
      "60000/60000 [==============================] - 38s 627us/step - loss: 0.2586 - acc: 0.9044\n",
      "Epoch 12/20\n",
      "60000/60000 [==============================] - 37s 623us/step - loss: 0.2507 - acc: 0.9057\n",
      "Epoch 13/20\n",
      "60000/60000 [==============================] - 37s 624us/step - loss: 0.2462 - acc: 0.9090\n",
      "Epoch 14/20\n",
      "60000/60000 [==============================] - 38s 625us/step - loss: 0.2395 - acc: 0.9107\n",
      "Epoch 15/20\n",
      "60000/60000 [==============================] - 38s 634us/step - loss: 0.2337 - acc: 0.9133\n",
      "Epoch 16/20\n",
      "60000/60000 [==============================] - 38s 639us/step - loss: 0.2258 - acc: 0.9149\n",
      "Epoch 17/20\n",
      "60000/60000 [==============================] - 38s 638us/step - loss: 0.2217 - acc: 0.9166\n",
      "Epoch 18/20\n",
      "60000/60000 [==============================] - 38s 641us/step - loss: 0.2188 - acc: 0.9179\n",
      "Epoch 19/20\n",
      "60000/60000 [==============================] - 39s 644us/step - loss: 0.2121 - acc: 0.9197\n",
      "Epoch 20/20\n",
      "60000/60000 [==============================] - 39s 643us/step - loss: 0.2096 - acc: 0.9212\n",
      "10000/10000 [==============================] - 3s 309us/step\n"
     ]
    }
   ],
   "source": [
    "model.fit(X_train, y_train,\n",
    "          epochs=20,\n",
    "          batch_size= 160)\n",
    "score = model.evaluate(X_test, y_test, batch_size=128)"
   ]
  },
  {
   "cell_type": "code",
   "execution_count": 7,
   "metadata": {},
   "outputs": [
    {
     "name": "stdout",
     "output_type": "stream",
     "text": [
      "_________________________________________________________________\n",
      "Layer (type)                 Output Shape              Param #   \n",
      "=================================================================\n",
      "conv2d_1 (Conv2D)            (None, 30, 24, 24)        780       \n",
      "_________________________________________________________________\n",
      "max_pooling2d_1 (MaxPooling2 (None, 30, 12, 12)        0         \n",
      "_________________________________________________________________\n",
      "conv2d_2 (Conv2D)            (None, 15, 10, 10)        4065      \n",
      "_________________________________________________________________\n",
      "max_pooling2d_2 (MaxPooling2 (None, 15, 5, 5)          0         \n",
      "_________________________________________________________________\n",
      "dropout_1 (Dropout)          (None, 15, 5, 5)          0         \n",
      "_________________________________________________________________\n",
      "flatten_1 (Flatten)          (None, 375)               0         \n",
      "_________________________________________________________________\n",
      "dense_1 (Dense)              (None, 128)               48128     \n",
      "_________________________________________________________________\n",
      "dense_2 (Dense)              (None, 50)                6450      \n",
      "_________________________________________________________________\n",
      "dense_3 (Dense)              (None, 10)                510       \n",
      "=================================================================\n",
      "Total params: 59,933\n",
      "Trainable params: 59,933\n",
      "Non-trainable params: 0\n",
      "_________________________________________________________________\n"
     ]
    }
   ],
   "source": [
    "model.summary()"
   ]
  },
  {
   "cell_type": "code",
   "execution_count": null,
   "metadata": {},
   "outputs": [],
   "source": []
  }
 ],
 "metadata": {
  "kernelspec": {
   "display_name": "Python 3",
   "language": "python",
   "name": "python3"
  },
  "language_info": {
   "codemirror_mode": {
    "name": "ipython",
    "version": 3
   },
   "file_extension": ".py",
   "mimetype": "text/x-python",
   "name": "python",
   "nbconvert_exporter": "python",
   "pygments_lexer": "ipython3",
   "version": "3.7.1"
  }
 },
 "nbformat": 4,
 "nbformat_minor": 2
}
